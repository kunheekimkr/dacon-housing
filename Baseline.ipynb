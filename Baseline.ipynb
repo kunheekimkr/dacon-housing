{
 "cells": [
  {
   "cell_type": "markdown",
   "metadata": {},
   "source": [
    "# 집값 예측 경진대회 베이스라인\n",
    "\n",
    "이번 대회는 집의 면적, 상태, 퀄리티 등의 다양한 정보들을 통해 집값을 예측하는 대회입니다.\n",
    "\n",
    "언뜻보면 간단해 보이지만 처음 데이터 분석을 접하시는 분들에게는 어디부터 어떻게 시작해야 하는지 막막하실 겁니다.\n",
    "\n",
    "## 누구나 할 수 있는 데이터 분석\n",
    "\n",
    "딥러닝, 머신러닝, 모델, 학습, 회귀분석 .... 다 몰라도 괜찮습니다!\n",
    "\n",
    "누구나 할 수 있는 방식으로 간단하게 데이터 분석 & 예측을 진행해보겠습니다."
   ]
  },
  {
   "cell_type": "markdown",
   "metadata": {},
   "source": [
    "# 데이터 불러오기\n",
    "\n",
    "먼저 분석하려는 데이터를 작업장으로 가져오는 작업이 필요합니다.\n",
    "\n",
    "이를 위해서 파이썬 라이브러리 중 하나인 Pandas를 이용합니다.\n",
    "\n",
    "pandas 라이브러리는 엑셀과 같은 행과 열로 이루어진 테이블(table) 형식의 데이터를 편하게 다루도록 해주는 라이브러리입니다.\n",
    "\n",
    "데이터 분석에는 반드시 사용된다고 해도 과언이 아닌 라이브러리이니, 시간이 날때마다 공부해둡시다."
   ]
  },
  {
   "cell_type": "code",
   "execution_count": 1,
   "metadata": {},
   "outputs": [
    {
     "name": "stdout",
     "output_type": "stream",
     "text": [
      "train set은 15 개의 feature를 가진 1350 개의 데이터 샘플로 이루어져 있습니다.\n"
     ]
    },
    {
     "data": {
      "text/html": [
       "<div>\n",
       "<style scoped>\n",
       "    .dataframe tbody tr th:only-of-type {\n",
       "        vertical-align: middle;\n",
       "    }\n",
       "\n",
       "    .dataframe tbody tr th {\n",
       "        vertical-align: top;\n",
       "    }\n",
       "\n",
       "    .dataframe thead th {\n",
       "        text-align: right;\n",
       "    }\n",
       "</style>\n",
       "<table border=\"1\" class=\"dataframe\">\n",
       "  <thead>\n",
       "    <tr style=\"text-align: right;\">\n",
       "      <th></th>\n",
       "      <th>id</th>\n",
       "      <th>Overall Qual</th>\n",
       "      <th>Gr Liv Area</th>\n",
       "      <th>Exter Qual</th>\n",
       "      <th>Garage Cars</th>\n",
       "      <th>Garage Area</th>\n",
       "      <th>Kitchen Qual</th>\n",
       "      <th>Total Bsmt SF</th>\n",
       "      <th>1st Flr SF</th>\n",
       "      <th>Bsmt Qual</th>\n",
       "      <th>Full Bath</th>\n",
       "      <th>Year Built</th>\n",
       "      <th>Year Remod/Add</th>\n",
       "      <th>Garage Yr Blt</th>\n",
       "      <th>target</th>\n",
       "    </tr>\n",
       "  </thead>\n",
       "  <tbody>\n",
       "    <tr>\n",
       "      <th>0</th>\n",
       "      <td>1</td>\n",
       "      <td>10</td>\n",
       "      <td>2392</td>\n",
       "      <td>Ex</td>\n",
       "      <td>3</td>\n",
       "      <td>968</td>\n",
       "      <td>Ex</td>\n",
       "      <td>2392</td>\n",
       "      <td>2392</td>\n",
       "      <td>Ex</td>\n",
       "      <td>2</td>\n",
       "      <td>2003</td>\n",
       "      <td>2003</td>\n",
       "      <td>2003</td>\n",
       "      <td>386250</td>\n",
       "    </tr>\n",
       "    <tr>\n",
       "      <th>1</th>\n",
       "      <td>2</td>\n",
       "      <td>7</td>\n",
       "      <td>1352</td>\n",
       "      <td>Gd</td>\n",
       "      <td>2</td>\n",
       "      <td>466</td>\n",
       "      <td>Gd</td>\n",
       "      <td>1352</td>\n",
       "      <td>1352</td>\n",
       "      <td>Ex</td>\n",
       "      <td>2</td>\n",
       "      <td>2006</td>\n",
       "      <td>2007</td>\n",
       "      <td>2006</td>\n",
       "      <td>194000</td>\n",
       "    </tr>\n",
       "    <tr>\n",
       "      <th>2</th>\n",
       "      <td>3</td>\n",
       "      <td>5</td>\n",
       "      <td>900</td>\n",
       "      <td>TA</td>\n",
       "      <td>1</td>\n",
       "      <td>288</td>\n",
       "      <td>TA</td>\n",
       "      <td>864</td>\n",
       "      <td>900</td>\n",
       "      <td>TA</td>\n",
       "      <td>1</td>\n",
       "      <td>1967</td>\n",
       "      <td>1967</td>\n",
       "      <td>1967</td>\n",
       "      <td>123000</td>\n",
       "    </tr>\n",
       "    <tr>\n",
       "      <th>3</th>\n",
       "      <td>4</td>\n",
       "      <td>5</td>\n",
       "      <td>1174</td>\n",
       "      <td>TA</td>\n",
       "      <td>2</td>\n",
       "      <td>576</td>\n",
       "      <td>Gd</td>\n",
       "      <td>680</td>\n",
       "      <td>680</td>\n",
       "      <td>TA</td>\n",
       "      <td>1</td>\n",
       "      <td>1900</td>\n",
       "      <td>2006</td>\n",
       "      <td>2000</td>\n",
       "      <td>135000</td>\n",
       "    </tr>\n",
       "    <tr>\n",
       "      <th>4</th>\n",
       "      <td>5</td>\n",
       "      <td>7</td>\n",
       "      <td>1958</td>\n",
       "      <td>Gd</td>\n",
       "      <td>3</td>\n",
       "      <td>936</td>\n",
       "      <td>Gd</td>\n",
       "      <td>1026</td>\n",
       "      <td>1026</td>\n",
       "      <td>Gd</td>\n",
       "      <td>2</td>\n",
       "      <td>2005</td>\n",
       "      <td>2005</td>\n",
       "      <td>2005</td>\n",
       "      <td>250000</td>\n",
       "    </tr>\n",
       "  </tbody>\n",
       "</table>\n",
       "</div>"
      ],
      "text/plain": [
       "   id  Overall Qual  Gr Liv Area Exter Qual  Garage Cars  Garage Area  \\\n",
       "0   1            10         2392         Ex            3          968   \n",
       "1   2             7         1352         Gd            2          466   \n",
       "2   3             5          900         TA            1          288   \n",
       "3   4             5         1174         TA            2          576   \n",
       "4   5             7         1958         Gd            3          936   \n",
       "\n",
       "  Kitchen Qual  Total Bsmt SF  1st Flr SF Bsmt Qual  Full Bath  Year Built  \\\n",
       "0           Ex           2392        2392        Ex          2        2003   \n",
       "1           Gd           1352        1352        Ex          2        2006   \n",
       "2           TA            864         900        TA          1        1967   \n",
       "3           Gd            680         680        TA          1        1900   \n",
       "4           Gd           1026        1026        Gd          2        2005   \n",
       "\n",
       "   Year Remod/Add  Garage Yr Blt  target  \n",
       "0            2003           2003  386250  \n",
       "1            2007           2006  194000  \n",
       "2            1967           1967  123000  \n",
       "3            2006           2000  135000  \n",
       "4            2005           2005  250000  "
      ]
     },
     "execution_count": 1,
     "metadata": {},
     "output_type": "execute_result"
    }
   ],
   "source": [
    "import pandas as pd\n",
    "\n",
    "# csv 형식으로 된 데이터 파일을 읽어옵니다.\n",
    "train = pd.read_csv('train.csv')\n",
    "\n",
    "print(f'train set은 {train.shape[1]} 개의 feature를 가진 {train.shape[0]} 개의 데이터 샘플로 이루어져 있습니다.')\n",
    "\n",
    "# 데이터의 최상단 5 줄을 표시합니다.\n",
    "train.head()"
   ]
  },
  {
   "cell_type": "markdown",
   "metadata": {},
   "source": [
    "데이터를 자세히 살펴보는 것은 EDA 글을 통해 더 자세히 배워봅시다.\n",
    "\n",
    "여기에서는 분석 방법에 초점을 맞추겠습니다."
   ]
  },
  {
   "cell_type": "markdown",
   "metadata": {},
   "source": [
    "## 결측치 확인\n",
    "\n",
    "결측치(NA: Not Available)란 값이 누락된 데이터를 말합니다.\n",
    "\n",
    "보다 정확한 분석을 하기 위해서는 데이터의 결측치를 확인하고 적절히 처리해주어야 합니다.\n",
    "\n",
    "이번 데이터에 결측치가 있나 확인해볼까요?"
   ]
  },
  {
   "cell_type": "code",
   "execution_count": 4,
   "metadata": {},
   "outputs": [
    {
     "name": "stdout",
     "output_type": "stream",
     "text": [
      "결측치가 존재하지 않습니다\n"
     ]
    }
   ],
   "source": [
    "def check_missing_col(dataframe):\n",
    "    missing_col = []\n",
    "    for col in dataframe.columns:\n",
    "        missing_values = sum(dataframe[col].isna())\n",
    "        is_missing = True if missing_values >= 1 else False\n",
    "        if is_missing:\n",
    "            print(f'결측치가 있는 컬럼은: {col} 입니다')\n",
    "            print(f'해당 컬럼에 총 {missing_values} 개의 결측치가 존재합니다.')\n",
    "            missing_col.append([col, dataframe[col].dtype])\n",
    "    if missing_col == []:\n",
    "        print('결측치가 존재하지 않습니다')\n",
    "    return missing_col\n",
    "\n",
    "missing_col = check_missing_col(train)"
   ]
  },
  {
   "cell_type": "markdown",
   "metadata": {},
   "source": [
    "이번 데이터에는 결측치가 존재하지 않네요.\n",
    "\n",
    "만약 결측치가 존재한다면 결측치 삭제, 평균 보간법, 최빈값 보간법 등 다양한 방식으로 처리할 수 있습니다."
   ]
  },
  {
   "cell_type": "markdown",
   "metadata": {},
   "source": [
    "# 데이터 설명 방정식 만들기\n",
    "\n",
    "데이터 분석이란, 주어진 데이터를 분석하여 데이터들 사이의 관계를 알아내고,\n",
    "\n",
    "이 관계를 통해서 주어지지 않은 데이터를 예측하는 일입니다.\n",
    "\n",
    "이 말을 잘 생각해보면 데이터 분석이란 방정식을 푸는 일과 똑같다는 걸 알 수 있습니다.\n",
    "\n",
    "X, Y를 이용해서 만드는 가장 기본적인 방정식을 떠올려봅시다.\n",
    "\n",
    "## Y = aX + b\n",
    "\n",
    "여기서 X는 주어진 데이터를 의미하며, Y는 예측하려는 데이터를 의미합니다.\n",
    "\n",
    "이번 대회에서는{ X란 [차고 면적, 건축 연도, 집의 퀄리티 등]이며, Y는 [집의 가격]}입니다.\n",
    "\n",
    "우리의 목표는 X에 어떤 a를 곱하고, 어떤 b를 더해야 정확하게 Y를 구할 수 있는지, 그 a와 b를 찾는 것입니다.\n",
    "\n",
    "먼저 완전히 주어진 데이터인 train.csv를 이용하여 데이터들 사이의 관계를 파악해봅시다."
   ]
  },
  {
   "cell_type": "markdown",
   "metadata": {},
   "source": [
    "## 좀 더 단순하게\n",
    "\n",
    "먼저 문제를 단순하게 생각해봅시다.\n",
    "\n",
    "X = {[Gr Liv Area]} 만을 이용해서 \n",
    "\n",
    "Y = {[SalePrice]} 를 예측해봅시다."
   ]
  },
  {
   "cell_type": "code",
   "execution_count": 5,
   "metadata": {},
   "outputs": [
    {
     "data": {
      "text/plain": [
       "Index(['id', 'Overall Qual', 'Gr Liv Area', 'Exter Qual', 'Garage Cars',\n",
       "       'Garage Area', 'Kitchen Qual', 'Total Bsmt SF', '1st Flr SF',\n",
       "       'Bsmt Qual', 'Full Bath', 'Year Built', 'Year Remod/Add',\n",
       "       'Garage Yr Blt', 'target'],\n",
       "      dtype='object')"
      ]
     },
     "execution_count": 5,
     "metadata": {},
     "output_type": "execute_result"
    }
   ],
   "source": [
    "# feature를 확인합니다.\n",
    "train.columns"
   ]
  },
  {
   "cell_type": "code",
   "execution_count": 2,
   "metadata": {},
   "outputs": [
    {
     "data": {
      "text/plain": [
       "0       2392\n",
       "1       1352\n",
       "2        900\n",
       "3       1174\n",
       "4       1958\n",
       "        ... \n",
       "1345    1756\n",
       "1346    2748\n",
       "1347    1214\n",
       "1348     894\n",
       "1349     907\n",
       "Name: Gr Liv Area, Length: 1350, dtype: int64"
      ]
     },
     "execution_count": 2,
     "metadata": {},
     "output_type": "execute_result"
    }
   ],
   "source": [
    "# X와 Y를 각각 따로 저장합니다.\n",
    "x_feature = 'Gr Liv Area'\n",
    "y_feature = 'target'\n",
    "\n",
    "X = train[x_feature]\n",
    "Y = train[y_feature]\n",
    "\n",
    "X"
   ]
  },
  {
   "cell_type": "markdown",
   "metadata": {},
   "source": [
    "## a 구하기\n",
    "\n",
    "먼저 X와 Y가 어떤 관계를 갖는지, 그 평균 값을 구해봅니다.\n",
    "\n",
    "이 과정은 위 방정식의 a 값을 구하는 것으로 생각할 수 있습니다."
   ]
  },
  {
   "cell_type": "code",
   "execution_count": 3,
   "metadata": {},
   "outputs": [
    {
     "name": "stdout",
     "output_type": "stream",
     "text": [
      "Gr Liv Area의 평균:1513.54 \n",
      "target의 평균:186406.31\n",
      "따라서 target는 Gr Liv Area의 평균 123.16배 입니다.\n",
      "즉, a = 123.16 입니다.\n",
      "업데이트 된 방정식 : Y = 123.16 * X + b\n"
     ]
    }
   ],
   "source": [
    "import numpy as np\n",
    "\n",
    "# 각각의 평균을 구합니다.\n",
    "X_mean = np.mean(X)\n",
    "Y_mean = np.mean(Y)\n",
    "\n",
    "# 평균값을 이용하여 관계를 구합니다.\n",
    "relation = Y_mean/X_mean\n",
    "\n",
    "print(f\"{x_feature}의 평균:{X_mean:.2f} \\n{y_feature}의 평균:{Y_mean:.2f}\")\n",
    "print(f\"따라서 {y_feature}는 {x_feature}의 평균 {relation:.2f}배 입니다.\")\n",
    "print(f\"즉, a = {relation:.2f} 입니다.\")\n",
    "a = round(relation, 2)\n",
    "print(f\"업데이트 된 방정식 : Y = {a:.2f} * X + b\")"
   ]
  },
  {
   "cell_type": "markdown",
   "metadata": {},
   "source": [
    "## b 구하기\n",
    "\n",
    "이번에는 b를 구해봅시다.\n",
    "\n",
    "a는 X와 Y의 강력한 관계를 나타냈다면, b는 그보다는 약한 관계를 나타냅니다. \n",
    "\n",
    "a 만으로는 설명하지 못하는 부분을 구하는 과정이라고 볼 수 있습니다.\n",
    "\n",
    "a를 넣어서 새롭게 업데이트 된 방정식을 사용하면 b를 구할 수 있습니다.\n",
    "\n",
    "b = Y - a * X"
   ]
  },
  {
   "cell_type": "code",
   "execution_count": 4,
   "metadata": {},
   "outputs": [
    {
     "name": "stdout",
     "output_type": "stream",
     "text": [
      "b는 -1.55 입니다.\n",
      "업데이트 된 방정식 : Y = 123.16 * X + -1.55\n"
     ]
    }
   ],
   "source": [
    "# b = Y - a * X 를 그대로 작성합니다. 여기서도 평균값을 이용합니다.\n",
    "b = Y_mean - a * X_mean\n",
    "\n",
    "print(f\"b는 {b:.2f} 입니다.\")\n",
    "print(f\"업데이트 된 방정식 : Y = {a:.2f} * X + {b:.2f}\")"
   ]
  },
  {
   "cell_type": "code",
   "execution_count": 5,
   "metadata": {},
   "outputs": [
    {
     "data": {
      "text/plain": [
       "0       294597.172504\n",
       "1       166510.772504\n",
       "2       110842.452504\n",
       "3       144588.292504\n",
       "4       241145.732504\n",
       "            ...      \n",
       "1345    216267.412504\n",
       "1346    338442.132504\n",
       "1347    149514.692504\n",
       "1348    110103.492504\n",
       "1349    111704.572504\n",
       "Name: Gr Liv Area, Length: 1350, dtype: float64"
      ]
     },
     "execution_count": 5,
     "metadata": {},
     "output_type": "execute_result"
    }
   ],
   "source": [
    "predict_Y = a * X + b\n",
    "predict_Y"
   ]
  },
  {
   "cell_type": "markdown",
   "metadata": {},
   "source": [
    "# 예측 결과 평가하기\n",
    "\n",
    "예측값을 만들었다고 데이터 분석이 끝나지는 않습니다.\n",
    "\n",
    "우리가 예측한 값이 얼마나 정확한지 평가하는 과정을 통해 어떤 부분이 부족한지, \n",
    "\n",
    "어떤 부분을 개선해야 더 정확한 예측이 가능한지 살펴봐야 합니다."
   ]
  },
  {
   "cell_type": "markdown",
   "metadata": {},
   "source": [
    "### NMAE\n",
    "\n",
    "이번 대회의 평가 지표(metric)는 NMAE, Normalized Mean Absolute Error 입니다.\n",
    "\n",
    "NMAE는 우리가 예측한 값과 실제 값이 얼마나 차이가 나는지, 정규화된 오차의 평균의 평균 (NMAE) 값을 취한 것입니다.\n",
    "\n",
    "다시 말하면, 정규화된(Normalized) 실제 값과 예측 값의 차이(Error)를 절대값(Absolute)으로 변환해 평균화(Mean)한 것이 NMAE 입니다. \n",
    "\n",
    "단순 실제값과 예측값의 차이는 음수 또는 양수 모두 나올 수 있어 에러의 크기를 그대로 반영하기 위해 절댓값을 취해준 것입니다."
   ]
  },
  {
   "cell_type": "code",
   "execution_count": 6,
   "metadata": {},
   "outputs": [],
   "source": [
    "# 대회 규칙의 평가 산식 함수를 그대로 사용합니다.\n",
    "\n",
    "def NMAE(true, pred):\n",
    "    mae = np.mean(np.abs(true-pred))\n",
    "    score = mae / np.mean(np.abs(true))\n",
    "    return score"
   ]
  },
  {
   "cell_type": "code",
   "execution_count": 7,
   "metadata": {},
   "outputs": [
    {
     "name": "stdout",
     "output_type": "stream",
     "text": [
      "이 방정식의 평균 에러는 0.20 입니다.\n"
     ]
    }
   ],
   "source": [
    "# 실제 정답 값을 준비합니다.\n",
    "real_answer = Y.copy()\n",
    "\n",
    "# 정답과 예측 값을 함수에 넣어 결과를 확인합니다.\n",
    "error = NMAE(real_answer, predict_Y)\n",
    "\n",
    "print(f\"이 방정식의 평균 에러는 {error:.2f} 입니다.\")"
   ]
  },
  {
   "cell_type": "markdown",
   "metadata": {},
   "source": [
    "# test_data 예측하기\n",
    "\n",
    "지금까지 train.csv를 통해서 데이터들 사이의 관계를 파악했습니다.\n",
    "\n",
    "그 결과 X로 Y를 예측하는 방정식을 얻을 수 있었습니다.\n",
    "\n",
    "이제 이 관계를 이용해서 실제로 주어지지 않은 데이터를 예측해봅시다."
   ]
  },
  {
   "cell_type": "code",
   "execution_count": 9,
   "metadata": {},
   "outputs": [
    {
     "data": {
      "text/html": [
       "<div>\n",
       "<style scoped>\n",
       "    .dataframe tbody tr th:only-of-type {\n",
       "        vertical-align: middle;\n",
       "    }\n",
       "\n",
       "    .dataframe tbody tr th {\n",
       "        vertical-align: top;\n",
       "    }\n",
       "\n",
       "    .dataframe thead th {\n",
       "        text-align: right;\n",
       "    }\n",
       "</style>\n",
       "<table border=\"1\" class=\"dataframe\">\n",
       "  <thead>\n",
       "    <tr style=\"text-align: right;\">\n",
       "      <th></th>\n",
       "      <th>id</th>\n",
       "      <th>Overall Qual</th>\n",
       "      <th>Gr Liv Area</th>\n",
       "      <th>Exter Qual</th>\n",
       "      <th>Garage Cars</th>\n",
       "      <th>Garage Area</th>\n",
       "      <th>Kitchen Qual</th>\n",
       "      <th>Total Bsmt SF</th>\n",
       "      <th>1st Flr SF</th>\n",
       "      <th>Bsmt Qual</th>\n",
       "      <th>Full Bath</th>\n",
       "      <th>Year Built</th>\n",
       "      <th>Year Remod/Add</th>\n",
       "      <th>Garage Yr Blt</th>\n",
       "    </tr>\n",
       "  </thead>\n",
       "  <tbody>\n",
       "    <tr>\n",
       "      <th>0</th>\n",
       "      <td>1</td>\n",
       "      <td>9</td>\n",
       "      <td>1800</td>\n",
       "      <td>Gd</td>\n",
       "      <td>2</td>\n",
       "      <td>702</td>\n",
       "      <td>Ex</td>\n",
       "      <td>1800</td>\n",
       "      <td>1800</td>\n",
       "      <td>Ex</td>\n",
       "      <td>2</td>\n",
       "      <td>2007</td>\n",
       "      <td>2007</td>\n",
       "      <td>2007</td>\n",
       "    </tr>\n",
       "    <tr>\n",
       "      <th>1</th>\n",
       "      <td>2</td>\n",
       "      <td>6</td>\n",
       "      <td>1082</td>\n",
       "      <td>TA</td>\n",
       "      <td>1</td>\n",
       "      <td>240</td>\n",
       "      <td>TA</td>\n",
       "      <td>1082</td>\n",
       "      <td>1082</td>\n",
       "      <td>TA</td>\n",
       "      <td>1</td>\n",
       "      <td>1948</td>\n",
       "      <td>1950</td>\n",
       "      <td>1948</td>\n",
       "    </tr>\n",
       "    <tr>\n",
       "      <th>2</th>\n",
       "      <td>3</td>\n",
       "      <td>6</td>\n",
       "      <td>1573</td>\n",
       "      <td>Gd</td>\n",
       "      <td>2</td>\n",
       "      <td>440</td>\n",
       "      <td>Gd</td>\n",
       "      <td>756</td>\n",
       "      <td>769</td>\n",
       "      <td>Gd</td>\n",
       "      <td>2</td>\n",
       "      <td>2000</td>\n",
       "      <td>2000</td>\n",
       "      <td>2000</td>\n",
       "    </tr>\n",
       "    <tr>\n",
       "      <th>3</th>\n",
       "      <td>4</td>\n",
       "      <td>6</td>\n",
       "      <td>2443</td>\n",
       "      <td>Gd</td>\n",
       "      <td>3</td>\n",
       "      <td>744</td>\n",
       "      <td>Gd</td>\n",
       "      <td>1158</td>\n",
       "      <td>1158</td>\n",
       "      <td>Gd</td>\n",
       "      <td>2</td>\n",
       "      <td>2004</td>\n",
       "      <td>2004</td>\n",
       "      <td>2004</td>\n",
       "    </tr>\n",
       "    <tr>\n",
       "      <th>4</th>\n",
       "      <td>5</td>\n",
       "      <td>5</td>\n",
       "      <td>1040</td>\n",
       "      <td>TA</td>\n",
       "      <td>2</td>\n",
       "      <td>686</td>\n",
       "      <td>TA</td>\n",
       "      <td>1040</td>\n",
       "      <td>1040</td>\n",
       "      <td>TA</td>\n",
       "      <td>1</td>\n",
       "      <td>1968</td>\n",
       "      <td>1968</td>\n",
       "      <td>1991</td>\n",
       "    </tr>\n",
       "  </tbody>\n",
       "</table>\n",
       "</div>"
      ],
      "text/plain": [
       "   id  Overall Qual  Gr Liv Area Exter Qual  Garage Cars  Garage Area  \\\n",
       "0   1             9         1800         Gd            2          702   \n",
       "1   2             6         1082         TA            1          240   \n",
       "2   3             6         1573         Gd            2          440   \n",
       "3   4             6         2443         Gd            3          744   \n",
       "4   5             5         1040         TA            2          686   \n",
       "\n",
       "  Kitchen Qual  Total Bsmt SF  1st Flr SF Bsmt Qual  Full Bath  Year Built  \\\n",
       "0           Ex           1800        1800        Ex          2        2007   \n",
       "1           TA           1082        1082        TA          1        1948   \n",
       "2           Gd            756         769        Gd          2        2000   \n",
       "3           Gd           1158        1158        Gd          2        2004   \n",
       "4           TA           1040        1040        TA          1        1968   \n",
       "\n",
       "   Year Remod/Add  Garage Yr Blt  \n",
       "0            2007           2007  \n",
       "1            1950           1948  \n",
       "2            2000           2000  \n",
       "3            2004           2004  \n",
       "4            1968           1991  "
      ]
     },
     "execution_count": 9,
     "metadata": {},
     "output_type": "execute_result"
    }
   ],
   "source": [
    "# 우리가 예측하고자 하는 test 데이터를 불러옵니다.\n",
    "test = pd.read_csv('test.csv')\n",
    "\n",
    "test.head()"
   ]
  },
  {
   "cell_type": "code",
   "execution_count": 10,
   "metadata": {},
   "outputs": [
    {
     "data": {
      "text/plain": [
       "0       221686.452504\n",
       "1       133257.572504\n",
       "2       193729.132504\n",
       "3       300878.332504\n",
       "4       128084.852504\n",
       "            ...      \n",
       "1345    237943.572504\n",
       "1346    112320.372504\n",
       "1347    106039.212504\n",
       "1348    176117.252504\n",
       "1349    287823.372504\n",
       "Name: Gr Liv Area, Length: 1350, dtype: float64"
      ]
     },
     "execution_count": 10,
     "metadata": {},
     "output_type": "execute_result"
    }
   ],
   "source": [
    "# 예측의 재료를 가져옵니다.\n",
    "test_X = test[x_feature]\n",
    "\n",
    "# 예측을 진행합니다.\n",
    "predict_test = a * test_X + b\n",
    "\n",
    "# 예측 결과를 확인합니다.\n",
    "predict_test"
   ]
  },
  {
   "cell_type": "code",
   "execution_count": 11,
   "metadata": {},
   "outputs": [
    {
     "data": {
      "text/html": [
       "<div>\n",
       "<style scoped>\n",
       "    .dataframe tbody tr th:only-of-type {\n",
       "        vertical-align: middle;\n",
       "    }\n",
       "\n",
       "    .dataframe tbody tr th {\n",
       "        vertical-align: top;\n",
       "    }\n",
       "\n",
       "    .dataframe thead th {\n",
       "        text-align: right;\n",
       "    }\n",
       "</style>\n",
       "<table border=\"1\" class=\"dataframe\">\n",
       "  <thead>\n",
       "    <tr style=\"text-align: right;\">\n",
       "      <th></th>\n",
       "      <th>id</th>\n",
       "      <th>target</th>\n",
       "    </tr>\n",
       "  </thead>\n",
       "  <tbody>\n",
       "    <tr>\n",
       "      <th>0</th>\n",
       "      <td>1</td>\n",
       "      <td>0</td>\n",
       "    </tr>\n",
       "    <tr>\n",
       "      <th>1</th>\n",
       "      <td>2</td>\n",
       "      <td>0</td>\n",
       "    </tr>\n",
       "    <tr>\n",
       "      <th>2</th>\n",
       "      <td>3</td>\n",
       "      <td>0</td>\n",
       "    </tr>\n",
       "    <tr>\n",
       "      <th>3</th>\n",
       "      <td>4</td>\n",
       "      <td>0</td>\n",
       "    </tr>\n",
       "    <tr>\n",
       "      <th>4</th>\n",
       "      <td>5</td>\n",
       "      <td>0</td>\n",
       "    </tr>\n",
       "  </tbody>\n",
       "</table>\n",
       "</div>"
      ],
      "text/plain": [
       "   id  target\n",
       "0   1       0\n",
       "1   2       0\n",
       "2   3       0\n",
       "3   4       0\n",
       "4   5       0"
      ]
     },
     "execution_count": 11,
     "metadata": {},
     "output_type": "execute_result"
    }
   ],
   "source": [
    "# 제출용 sample 파일을 불러옵니다.\n",
    "submission = pd.read_csv('sample_submission.csv')\n",
    "submission.head()"
   ]
  },
  {
   "cell_type": "code",
   "execution_count": 12,
   "metadata": {},
   "outputs": [
    {
     "data": {
      "text/html": [
       "<div>\n",
       "<style scoped>\n",
       "    .dataframe tbody tr th:only-of-type {\n",
       "        vertical-align: middle;\n",
       "    }\n",
       "\n",
       "    .dataframe tbody tr th {\n",
       "        vertical-align: top;\n",
       "    }\n",
       "\n",
       "    .dataframe thead th {\n",
       "        text-align: right;\n",
       "    }\n",
       "</style>\n",
       "<table border=\"1\" class=\"dataframe\">\n",
       "  <thead>\n",
       "    <tr style=\"text-align: right;\">\n",
       "      <th></th>\n",
       "      <th>id</th>\n",
       "      <th>target</th>\n",
       "    </tr>\n",
       "  </thead>\n",
       "  <tbody>\n",
       "    <tr>\n",
       "      <th>0</th>\n",
       "      <td>1</td>\n",
       "      <td>221686.452504</td>\n",
       "    </tr>\n",
       "    <tr>\n",
       "      <th>1</th>\n",
       "      <td>2</td>\n",
       "      <td>133257.572504</td>\n",
       "    </tr>\n",
       "    <tr>\n",
       "      <th>2</th>\n",
       "      <td>3</td>\n",
       "      <td>193729.132504</td>\n",
       "    </tr>\n",
       "    <tr>\n",
       "      <th>3</th>\n",
       "      <td>4</td>\n",
       "      <td>300878.332504</td>\n",
       "    </tr>\n",
       "    <tr>\n",
       "      <th>4</th>\n",
       "      <td>5</td>\n",
       "      <td>128084.852504</td>\n",
       "    </tr>\n",
       "    <tr>\n",
       "      <th>...</th>\n",
       "      <td>...</td>\n",
       "      <td>...</td>\n",
       "    </tr>\n",
       "    <tr>\n",
       "      <th>1345</th>\n",
       "      <td>1346</td>\n",
       "      <td>237943.572504</td>\n",
       "    </tr>\n",
       "    <tr>\n",
       "      <th>1346</th>\n",
       "      <td>1347</td>\n",
       "      <td>112320.372504</td>\n",
       "    </tr>\n",
       "    <tr>\n",
       "      <th>1347</th>\n",
       "      <td>1348</td>\n",
       "      <td>106039.212504</td>\n",
       "    </tr>\n",
       "    <tr>\n",
       "      <th>1348</th>\n",
       "      <td>1349</td>\n",
       "      <td>176117.252504</td>\n",
       "    </tr>\n",
       "    <tr>\n",
       "      <th>1349</th>\n",
       "      <td>1350</td>\n",
       "      <td>287823.372504</td>\n",
       "    </tr>\n",
       "  </tbody>\n",
       "</table>\n",
       "<p>1350 rows × 2 columns</p>\n",
       "</div>"
      ],
      "text/plain": [
       "        id         target\n",
       "0        1  221686.452504\n",
       "1        2  133257.572504\n",
       "2        3  193729.132504\n",
       "3        4  300878.332504\n",
       "4        5  128084.852504\n",
       "...    ...            ...\n",
       "1345  1346  237943.572504\n",
       "1346  1347  112320.372504\n",
       "1347  1348  106039.212504\n",
       "1348  1349  176117.252504\n",
       "1349  1350  287823.372504\n",
       "\n",
       "[1350 rows x 2 columns]"
      ]
     },
     "execution_count": 12,
     "metadata": {},
     "output_type": "execute_result"
    }
   ],
   "source": [
    "# 위에서 구한 예측값을 그대로 넣어줍니다.\n",
    "submission[y_feature] = predict_test\n",
    "\n",
    "# 데이터가 잘 들어갔는지 확인합니다.\n",
    "submission"
   ]
  },
  {
   "cell_type": "code",
   "execution_count": 13,
   "metadata": {},
   "outputs": [],
   "source": [
    "# submission을 csv 파일로 저장합니다.\n",
    "# index=False란 추가적인 id를 부여할 필요가 없다는 뜻입니다. \n",
    "# 정확한 채점을 위해 꼭 index=False를 넣어주세요.\n",
    "submission.to_csv(\"baseline.csv\", index=False)"
   ]
  },
  {
   "cell_type": "markdown",
   "metadata": {},
   "source": [
    "# 축하합니다! 데이터 분석을 완료하셨습니다!\n",
    "\n",
    "데이터 분석의 첫걸음을 떼신 것을 축하드립니다.\n",
    "\n",
    "보셨다시피 데이터 분석은 그렇게 어렵지 않습니다.\n",
    "\n",
    "데이터들 사이의 관계를 찾아서, 그 관계를 통해 주어지지 않은 정보를 예측할 뿐입니다.\n",
    "\n",
    "고도의 기술을 사용하면 이 예측값이 조금 더 정확해질뿐, 기본적인 개념은 바뀌지 않습니다.\n",
    "\n",
    "앞으로도 데이콘과 함께 즐겁게 데이터 분석 능력을 키워가시면 좋겠습니다.\n",
    "\n",
    "감사합니다."
   ]
  },
  {
   "cell_type": "code",
   "execution_count": null,
   "metadata": {},
   "outputs": [],
   "source": []
  }
 ],
 "metadata": {
  "kernelspec": {
   "display_name": "Python 3",
   "language": "python",
   "name": "python3"
  },
  "language_info": {
   "codemirror_mode": {
    "name": "ipython",
    "version": 3
   },
   "file_extension": ".py",
   "mimetype": "text/x-python",
   "name": "python",
   "nbconvert_exporter": "python",
   "pygments_lexer": "ipython3",
   "version": "3.8.12"
  }
 },
 "nbformat": 4,
 "nbformat_minor": 4
}
